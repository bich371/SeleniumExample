{
 "cells": [
  {
   "cell_type": "code",
   "execution_count": null,
   "metadata": {},
   "outputs": [],
   "source": [
    "from selenium import webdriver\n",
    "from webdriver_manager.chrome import ChromeDriverManager\n",
    "# from selenium.webdriver.common.keys import Keys\n",
    "# # from selenium.webdriver.common.alert import Alert\n",
    "from selenium.webdriver.common.by import By\n",
    "from time import sleep\n",
    "from selenium.webdriver.support.select import Select\n",
    "\n",
    "# class DemoDropdownSinglSelect():\n",
    "#     def demo_dropdown(self):\n",
    "#         driver = webdriver.Chrome()\n",
    "#         driver.get('https://vinmec.com/vi/')\n",
    "\n",
    "\n",
    "driver = webdriver.Chrome()\n",
    "url = 'https://vinmec.com/vi/'\n",
    "driver.get(url)\n",
    "driver.maximize_window()\n",
    "\n",
    "sleep(10)\n",
    "\n",
    "division = driver.find_element(By.XPATH, '//*[@id=\"book-appointment-homepage\"]/div/form/div[1]/div[2]/div[2]/select')\n",
    "division.click()\n",
    "geodivison = Select(division)\n",
    "geodivison.select_by_index(1)\n"
   ]
  },
  {
   "cell_type": "code",
   "execution_count": 3,
   "metadata": {},
   "outputs": [],
   "source": [
    "division = driver.find_element(By.XPATH, '//*[@id=\"book-appointment-homepage\"]/div/form/div[1]/div[2]/div[2]/select')\n",
    "division.click()\n",
    "geodivison = Select(division)\n",
    "geodivison.select_by_index(1)"
   ]
  }
 ],
 "metadata": {
  "kernelspec": {
   "display_name": "Python 3",
   "language": "python",
   "name": "python3"
  },
  "language_info": {
   "codemirror_mode": {
    "name": "ipython",
    "version": 3
   },
   "file_extension": ".py",
   "mimetype": "text/x-python",
   "name": "python",
   "nbconvert_exporter": "python",
   "pygments_lexer": "ipython3",
   "version": "3.11.3"
  },
  "orig_nbformat": 4
 },
 "nbformat": 4,
 "nbformat_minor": 2
}
