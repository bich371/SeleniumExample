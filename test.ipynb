{
 "cells": [
  {
   "cell_type": "code",
   "execution_count": 16,
   "metadata": {},
   "outputs": [
    {
     "ename": "InvalidSelectorException",
     "evalue": "Message: invalid selector: An invalid or illegal selector was specified\n  (Session info: chrome=114.0.5735.134)\nStacktrace:\nBacktrace:\n\tGetHandleVerifier [0x00A3A813+48355]\n\t(No symbol) [0x009CC4B1]\n\t(No symbol) [0x008D5358]\n\t(No symbol) [0x008D87A1]\n\t(No symbol) [0x008D99E1]\n\t(No symbol) [0x008D9A80]\n\t(No symbol) [0x0090061C]\n\t(No symbol) [0x00900B3B]\n\t(No symbol) [0x0092E232]\n\t(No symbol) [0x0091A784]\n\t(No symbol) [0x0092C922]\n\t(No symbol) [0x0091A536]\n\t(No symbol) [0x008F82DC]\n\t(No symbol) [0x008F93DD]\n\tGetHandleVerifier [0x00C9AABD+2539405]\n\tGetHandleVerifier [0x00CDA78F+2800735]\n\tGetHandleVerifier [0x00CD456C+2775612]\n\tGetHandleVerifier [0x00AC51E0+616112]\n\t(No symbol) [0x009D5F8C]\n\t(No symbol) [0x009D2328]\n\t(No symbol) [0x009D240B]\n\t(No symbol) [0x009C4FF7]\n\tBaseThreadInitThunk [0x772C00C9+25]\n\tRtlGetAppContainerNamedObjectPath [0x77807B4E+286]\n\tRtlGetAppContainerNamedObjectPath [0x77807B1E+238]\n",
     "output_type": "error",
     "traceback": [
      "\u001b[1;31m---------------------------------------------------------------------------\u001b[0m",
      "\u001b[1;31mInvalidSelectorException\u001b[0m                  Traceback (most recent call last)",
      "Cell \u001b[1;32mIn[16], line 11\u001b[0m\n\u001b[0;32m      8\u001b[0m driver\u001b[39m.\u001b[39mmaximize_window()\n\u001b[0;32m      9\u001b[0m sleep(\u001b[39m3\u001b[39m)\n\u001b[1;32m---> 11\u001b[0m element \u001b[39m=\u001b[39m driver\u001b[39m.\u001b[39;49mfind_element(By\u001b[39m.\u001b[39;49mCSS_SELECTOR,\u001b[39m'\u001b[39;49m\u001b[39ma.dropdown-item:contains(\u001b[39;49m\u001b[39m\"\u001b[39;49m\u001b[39mClothes\u001b[39;49m\u001b[39m\"\u001b[39;49m\u001b[39m)\u001b[39;49m\u001b[39m'\u001b[39;49m)\n\u001b[0;32m     12\u001b[0m element\u001b[39m.\u001b[39mclick()\n",
      "File \u001b[1;32m~\\AppData\\Roaming\\Python\\Python311\\site-packages\\selenium\\webdriver\\remote\\webdriver.py:831\u001b[0m, in \u001b[0;36mWebDriver.find_element\u001b[1;34m(self, by, value)\u001b[0m\n\u001b[0;32m    828\u001b[0m     by \u001b[39m=\u001b[39m By\u001b[39m.\u001b[39mCSS_SELECTOR\n\u001b[0;32m    829\u001b[0m     value \u001b[39m=\u001b[39m \u001b[39mf\u001b[39m\u001b[39m'\u001b[39m\u001b[39m[name=\u001b[39m\u001b[39m\"\u001b[39m\u001b[39m{\u001b[39;00mvalue\u001b[39m}\u001b[39;00m\u001b[39m\"\u001b[39m\u001b[39m]\u001b[39m\u001b[39m'\u001b[39m\n\u001b[1;32m--> 831\u001b[0m \u001b[39mreturn\u001b[39;00m \u001b[39mself\u001b[39;49m\u001b[39m.\u001b[39;49mexecute(Command\u001b[39m.\u001b[39;49mFIND_ELEMENT, {\u001b[39m\"\u001b[39;49m\u001b[39musing\u001b[39;49m\u001b[39m\"\u001b[39;49m: by, \u001b[39m\"\u001b[39;49m\u001b[39mvalue\u001b[39;49m\u001b[39m\"\u001b[39;49m: value})[\u001b[39m\"\u001b[39m\u001b[39mvalue\u001b[39m\u001b[39m\"\u001b[39m]\n",
      "File \u001b[1;32m~\\AppData\\Roaming\\Python\\Python311\\site-packages\\selenium\\webdriver\\remote\\webdriver.py:440\u001b[0m, in \u001b[0;36mWebDriver.execute\u001b[1;34m(self, driver_command, params)\u001b[0m\n\u001b[0;32m    438\u001b[0m response \u001b[39m=\u001b[39m \u001b[39mself\u001b[39m\u001b[39m.\u001b[39mcommand_executor\u001b[39m.\u001b[39mexecute(driver_command, params)\n\u001b[0;32m    439\u001b[0m \u001b[39mif\u001b[39;00m response:\n\u001b[1;32m--> 440\u001b[0m     \u001b[39mself\u001b[39;49m\u001b[39m.\u001b[39;49merror_handler\u001b[39m.\u001b[39;49mcheck_response(response)\n\u001b[0;32m    441\u001b[0m     response[\u001b[39m\"\u001b[39m\u001b[39mvalue\u001b[39m\u001b[39m\"\u001b[39m] \u001b[39m=\u001b[39m \u001b[39mself\u001b[39m\u001b[39m.\u001b[39m_unwrap_value(response\u001b[39m.\u001b[39mget(\u001b[39m\"\u001b[39m\u001b[39mvalue\u001b[39m\u001b[39m\"\u001b[39m, \u001b[39mNone\u001b[39;00m))\n\u001b[0;32m    442\u001b[0m     \u001b[39mreturn\u001b[39;00m response\n",
      "File \u001b[1;32m~\\AppData\\Roaming\\Python\\Python311\\site-packages\\selenium\\webdriver\\remote\\errorhandler.py:245\u001b[0m, in \u001b[0;36mErrorHandler.check_response\u001b[1;34m(self, response)\u001b[0m\n\u001b[0;32m    243\u001b[0m         alert_text \u001b[39m=\u001b[39m value[\u001b[39m\"\u001b[39m\u001b[39malert\u001b[39m\u001b[39m\"\u001b[39m]\u001b[39m.\u001b[39mget(\u001b[39m\"\u001b[39m\u001b[39mtext\u001b[39m\u001b[39m\"\u001b[39m)\n\u001b[0;32m    244\u001b[0m     \u001b[39mraise\u001b[39;00m exception_class(message, screen, stacktrace, alert_text)  \u001b[39m# type: ignore[call-arg]  # mypy is not smart enough here\u001b[39;00m\n\u001b[1;32m--> 245\u001b[0m \u001b[39mraise\u001b[39;00m exception_class(message, screen, stacktrace)\n",
      "\u001b[1;31mInvalidSelectorException\u001b[0m: Message: invalid selector: An invalid or illegal selector was specified\n  (Session info: chrome=114.0.5735.134)\nStacktrace:\nBacktrace:\n\tGetHandleVerifier [0x00A3A813+48355]\n\t(No symbol) [0x009CC4B1]\n\t(No symbol) [0x008D5358]\n\t(No symbol) [0x008D87A1]\n\t(No symbol) [0x008D99E1]\n\t(No symbol) [0x008D9A80]\n\t(No symbol) [0x0090061C]\n\t(No symbol) [0x00900B3B]\n\t(No symbol) [0x0092E232]\n\t(No symbol) [0x0091A784]\n\t(No symbol) [0x0092C922]\n\t(No symbol) [0x0091A536]\n\t(No symbol) [0x008F82DC]\n\t(No symbol) [0x008F93DD]\n\tGetHandleVerifier [0x00C9AABD+2539405]\n\tGetHandleVerifier [0x00CDA78F+2800735]\n\tGetHandleVerifier [0x00CD456C+2775612]\n\tGetHandleVerifier [0x00AC51E0+616112]\n\t(No symbol) [0x009D5F8C]\n\t(No symbol) [0x009D2328]\n\t(No symbol) [0x009D240B]\n\t(No symbol) [0x009C4FF7]\n\tBaseThreadInitThunk [0x772C00C9+25]\n\tRtlGetAppContainerNamedObjectPath [0x77807B4E+286]\n\tRtlGetAppContainerNamedObjectPath [0x77807B1E+238]\n"
     ]
    }
   ],
   "source": [
    "from selenium import webdriver\n",
    "from selenium.webdriver.common.keys import Keys\n",
    "from selenium.webdriver.common.by import By\n",
    "from time import sleep\n",
    "driver = webdriver.Chrome()\n",
    "url = 'http://teststore.automationtesting.co.uk/'\n",
    "driver.get(url)\n",
    "driver.maximize_window()\n",
    "sleep(3)\n",
    "\n",
    "element = driver.find_element_by_css(By.CSS_SELECTOR,'a.dropdown-item:contains(\"Clothes\")')\n",
    "element.click()\n",
    "\n"
   ]
  },
  {
   "cell_type": "code",
   "execution_count": 2,
   "metadata": {},
   "outputs": [],
   "source": [
    "credential = open('account')\n",
    "line = credential.readlines()\n",
    "username = line[0]\n",
    "pwd = line[1]"
   ]
  },
  {
   "cell_type": "code",
   "execution_count": 3,
   "metadata": {},
   "outputs": [
    {
     "name": "stdout",
     "output_type": "stream",
     "text": [
      "- Finish keying in username\n",
      "- Finish keying in password\n"
     ]
    }
   ],
   "source": [
    "email = driver.find_element(By.ID, 'session_key')\n",
    "email.send_keys(username)\n",
    "print('- Finish keying in username')\n",
    "sleep(3)\n",
    "\n",
    "password = driver.find_element(By.NAME, 'session_password')\n",
    "password.send_keys(pwd)\n",
    "print('- Finish keying in password')\n",
    "sleep(3)"
   ]
  },
  {
   "cell_type": "code",
   "execution_count": 4,
   "metadata": {},
   "outputs": [
    {
     "name": "stdout",
     "output_type": "stream",
     "text": [
      "Finish logging in\n"
     ]
    }
   ],
   "source": [
    "login_button = driver.find_element(By.XPATH, \"//button[normalize-space()='Sign in']\")\n",
    "login_button.click()\n",
    "print('Finish logging in')\n",
    "sleep(3)"
   ]
  },
  {
   "cell_type": "code",
   "execution_count": 5,
   "metadata": {},
   "outputs": [],
   "source": [
    "search = driver.find_element(By.XPATH, \"//input[@placeholder='Search']\")\n",
    "# keyword = input('What are u looking for?')\n",
    "search.send_keys('software engineer people')\n",
    "# print('input keyword successfully')\n",
    "sleep(3)\n",
    "search.send_keys(Keys.RETURN)"
   ]
  },
  {
   "cell_type": "code",
   "execution_count": 9,
   "metadata": {},
   "outputs": [],
   "source": [
    "see_more_btn = driver.find_element(By.XPATH,\"//a[normalize-space()='See all people results']\")\n",
    "see_more_btn.click()\n"
   ]
  }
 ],
 "metadata": {
  "kernelspec": {
   "display_name": "Python 3",
   "language": "python",
   "name": "python3"
  },
  "language_info": {
   "codemirror_mode": {
    "name": "ipython",
    "version": 3
   },
   "file_extension": ".py",
   "mimetype": "text/x-python",
   "name": "python",
   "nbconvert_exporter": "python",
   "pygments_lexer": "ipython3",
   "version": "3.11.3"
  },
  "orig_nbformat": 4
 },
 "nbformat": 4,
 "nbformat_minor": 2
}
