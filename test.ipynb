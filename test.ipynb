{
 "cells": [
  {
   "cell_type": "code",
   "execution_count": null,
   "metadata": {},
   "outputs": [],
   "source": [
    "from selenium import webdriver\n",
    "from selenium.webdriver.common.keys import Keys\n",
    "from selenium.webdriver.common.by import By\n",
    "from time import sleep\n",
    "driver = webdriver.Chrome()\n",
    "url = 'http://teststore.automationtesting.co.uk/'\n",
    "driver.get(url)\n",
    "driver.maximize_window()\n",
    "sleep(3)\n",
    "\n",
    "element = driver.find_element_by_css(By.CSS_SELECTOR,'a.dropdown-item:contains(\"Clothes\")')\n",
    "element.click()\n",
    "\n"
   ]
  },
  {
   "cell_type": "code",
   "execution_count": 2,
   "metadata": {},
   "outputs": [],
   "source": [
    "credential = open('account')\n",
    "line = credential.readlines()\n",
    "username = line[0]\n",
    "pwd = line[1]"
   ]
  },
  {
   "cell_type": "code",
   "execution_count": 3,
   "metadata": {},
   "outputs": [
    {
     "name": "stdout",
     "output_type": "stream",
     "text": [
      "- Finish keying in username\n",
      "- Finish keying in password\n"
     ]
    }
   ],
   "source": [
    "email = driver.find_element(By.ID, 'session_key')\n",
    "email.send_keys(username)\n",
    "print('- Finish keying in username')\n",
    "sleep(3)\n",
    "\n",
    "password = driver.find_element(By.NAME, 'session_password')\n",
    "password.send_keys(pwd)\n",
    "print('- Finish keying in password')\n",
    "sleep(3)"
   ]
  },
  {
   "cell_type": "code",
   "execution_count": 4,
   "metadata": {},
   "outputs": [
    {
     "name": "stdout",
     "output_type": "stream",
     "text": [
      "Finish logging in\n"
     ]
    }
   ],
   "source": [
    "login_button = driver.find_element(By.XPATH, \"//button[normalize-space()='Sign in']\")\n",
    "login_button.click()\n",
    "print('Finish logging in')\n",
    "sleep(3)"
   ]
  },
  {
   "cell_type": "code",
   "execution_count": 5,
   "metadata": {},
   "outputs": [],
   "source": [
    "search = driver.find_element(By.XPATH, \"//input[@placeholder='Search']\")\n",
    "# keyword = input('What are u looking for?')\n",
    "search.send_keys('software engineer people')\n",
    "# print('input keyword successfully')\n",
    "sleep(3)\n",
    "search.send_keys(Keys.RETURN)"
   ]
  },
  {
   "cell_type": "code",
   "execution_count": 9,
   "metadata": {},
   "outputs": [],
   "source": [
    "see_more_btn = driver.find_element(By.XPATH,\"//a[normalize-space()='See all people results']\")\n",
    "see_more_btn.click()\n"
   ]
  }
 ],
 "metadata": {
  "kernelspec": {
   "display_name": "Python 3",
   "language": "python",
   "name": "python3"
  },
  "language_info": {
   "codemirror_mode": {
    "name": "ipython",
    "version": 3
   },
   "file_extension": ".py",
   "mimetype": "text/x-python",
   "name": "python",
   "nbconvert_exporter": "python",
   "pygments_lexer": "ipython3",
   "version": "3.11.3"
  },
  "orig_nbformat": 4
 },
 "nbformat": 4,
 "nbformat_minor": 2
}
