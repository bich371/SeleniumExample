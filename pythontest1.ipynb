{
 "cells": [
  {
   "cell_type": "code",
   "execution_count": null,
   "metadata": {},
   "outputs": [],
   "source": [
    "#fibonacci series:\n",
    "a, b = 0, 1\n",
    "while a < 10:\n",
    "    print(a)\n",
    "    a, b = b, a+b"
   ]
  },
  {
   "cell_type": "code",
   "execution_count": 5,
   "metadata": {},
   "outputs": [
    {
     "name": "stdout",
     "output_type": "stream",
     "text": [
      "1\n"
     ]
    }
   ],
   "source": [
    "x = int(input('Please enter an integer: '))\n",
    "print(x)\n"
   ]
  },
  {
   "cell_type": "code",
   "execution_count": 19,
   "metadata": {},
   "outputs": [
    {
     "name": "stdout",
     "output_type": "stream",
     "text": [
      "more\n"
     ]
    }
   ],
   "source": [
    "x = 15\n",
    "\n",
    "if x < 0:\n",
    "    print('Negative changed to zero')\n",
    "elif x == 0:\n",
    "    print('zero')\n",
    "elif x == 1:\n",
    "    print('single')\n",
    "else:\n",
    "    print('more')"
   ]
  },
  {
   "cell_type": "code",
   "execution_count": 9,
   "metadata": {},
   "outputs": [
    {
     "name": "stdout",
     "output_type": "stream",
     "text": [
      "16\n",
      "1.6\n"
     ]
    }
   ],
   "source": [
    "print(2**4)\n",
    "\n",
    "print(8/5)\n"
   ]
  },
  {
   "cell_type": "code",
   "execution_count": 31,
   "metadata": {},
   "outputs": [
    {
     "name": "stdout",
     "output_type": "stream",
     "text": [
      "doesn't\n",
      "doesn't\n",
      "C:\\some\n",
      "ame\n",
      "C:\\some\\name\n"
     ]
    }
   ],
   "source": [
    "print('doesn\\'t')\n",
    "print(\"doesn't\")\n",
    "print('C:\\some\\name')\n",
    "print(r'C:\\some\\name')\n",
    "\n",
    "# "
   ]
  },
  {
   "cell_type": "code",
   "execution_count": 11,
   "metadata": {},
   "outputs": [
    {
     "name": "stdout",
     "output_type": "stream",
     "text": [
      "15\n"
     ]
    }
   ],
   "source": [
    "def add(a, b):\n",
    "    return a + b\n",
    "\n",
    "result = add(10, 5)\n",
    "print(result)"
   ]
  },
  {
   "cell_type": "code",
   "execution_count": 12,
   "metadata": {},
   "outputs": [
    {
     "name": "stdout",
     "output_type": "stream",
     "text": [
      "[1, 1, 2, 3, 3, 4, 5, 5, 5, 6, 9]\n"
     ]
    }
   ],
   "source": [
    "lst = [3, 1, 4, 1, 5, 9, 2, 6, 5, 3, 5]\n",
    "sorted_lst = sorted(lst)  # Sắp xếp lst theo thứ tự tăng dần\n",
    "print(sorted_lst)  # Kết quả: [1, 1, 2, 3, 3, 4, 5, 5, 5, 6, 9]"
   ]
  },
  {
   "cell_type": "code",
   "execution_count": null,
   "metadata": {},
   "outputs": [],
   "source": [
    "age = 19\n",
    "while age < 30:\n",
    "    age += 1\n",
    "    print ('not old enough, current age is',age)"
   ]
  },
  {
   "cell_type": "code",
   "execution_count": 13,
   "metadata": {},
   "outputs": [
    {
     "name": "stdout",
     "output_type": "stream",
     "text": [
      "It's hot\n",
      "Drink water\n"
     ]
    }
   ],
   "source": [
    "temp = 33\n",
    "\n",
    "if temp >= 30:\n",
    "    print(\"It's hot\")\n",
    "    print(\"Drink water\")\n",
    "elif temp >20:\n",
    "    print(\"it's nice\")\n",
    "    print(\"Let's take a walk\")\n",
    "else:\n",
    "    print(\"It's cold\")"
   ]
  },
  {
   "cell_type": "code",
   "execution_count": 2,
   "metadata": {},
   "outputs": [
    {
     "name": "stdout",
     "output_type": "stream",
     "text": [
      "Happy bday to Jon\n",
      "Happy bday to you!\n",
      "Happy bday to 2\n",
      "Happy bday to you!\n"
     ]
    }
   ],
   "source": [
    "\n",
    "# \n",
    "# trong ngoặc là biến, \n",
    "# nếu ko gán giá trị default => thì biến là required, bắt buộc phải truyền, \n",
    "# nếu có gán default, khi ko truyền, sẽ nhận giá trị default\n",
    "\n",
    "# \n",
    "\n",
    "\n",
    "def happy_bday(name): \n",
    "    print(f'Happy bday to {name}')\n",
    "    # f: dùng để nối biến vào chuỗi\n",
    "    print('Happy bday to you!')\n",
    "\n",
    "happy_bday(\"Jon\")\n",
    "happy_bday(\"2\")"
   ]
  },
  {
   "cell_type": "code",
   "execution_count": 1,
   "metadata": {},
   "outputs": [
    {
     "name": "stdout",
     "output_type": "stream",
     "text": [
      "The Effective Engineer\n",
      "The 4 hours work week\n",
      "Zero to One\n",
      "Lean Startup\n",
      "Hooked\n"
     ]
    }
   ],
   "source": [
    "bookshelf = [\n",
    "  \"The Effective Engineer\",\n",
    "  \"The 4 hours work week\",\n",
    "  \"Zero to One\",\n",
    "  \"Lean Startup\",\n",
    "  \"Hooked\"\n",
    "]\n",
    "for book in bookshelf:\n",
    "    print(book)"
   ]
  },
  {
   "cell_type": "code",
   "execution_count": 3,
   "metadata": {},
   "outputs": [
    {
     "name": "stdout",
     "output_type": "stream",
     "text": [
      "My name is Diep \n",
      "I'm 23 \n"
     ]
    }
   ],
   "source": [
    "dictionary_acc = {\n",
    "    \"name\" : \"Diep\",\n",
    "    \"age\" : 23\n",
    "}\n",
    "\n",
    "print(\"My name is %s \" %(dictionary_acc[\"name\"])) # My name is Diep\n",
    "print(\"I'm %i \" %(dictionary_acc[\"age\"])) # I'm 23"
   ]
  },
  {
   "cell_type": "code",
   "execution_count": 8,
   "metadata": {},
   "outputs": [
    {
     "name": "stdout",
     "output_type": "stream",
     "text": [
      "Lan\n",
      "['Mai', 'Đào']\n"
     ]
    }
   ],
   "source": [
    "list = [\"Lan\", \"Hoa\", \"Mai\", \"Đào\"]\n",
    "print(list[0])\n",
    "print(list[2:4])"
   ]
  },
  {
   "cell_type": "code",
   "execution_count": 1,
   "metadata": {},
   "outputs": [
    {
     "name": "stdout",
     "output_type": "stream",
     "text": [
      "<class 'int'>\n",
      "<class 'str'>\n"
     ]
    }
   ],
   "source": [
    "a = 5\n",
    "b = \"Hello\"\n",
    "\n",
    "print(type(a))\n",
    "print(type(b))"
   ]
  },
  {
   "cell_type": "code",
   "execution_count": 1,
   "metadata": {},
   "outputs": [
    {
     "name": "stdout",
     "output_type": "stream",
     "text": [
      "True\n",
      "True\n",
      "True\n",
      "False\n"
     ]
    }
   ],
   "source": [
    "x = 'Hello world'\n",
    "y = {1:'a',2:'b'}\n",
    "# Output: True\n",
    "print('H' in x)\n",
    "# Output: True\n",
    "print('hello' not in x)\n",
    "# Output: True\n",
    "# có phân biệt hoa thường\n",
    "print(1 in y)\n",
    "# Output: False\n",
    "print('a' in y)"
   ]
  }
 ],
 "metadata": {
  "kernelspec": {
   "display_name": "Python 3",
   "language": "python",
   "name": "python3"
  },
  "language_info": {
   "codemirror_mode": {
    "name": "ipython",
    "version": 3
   },
   "file_extension": ".py",
   "mimetype": "text/x-python",
   "name": "python",
   "nbconvert_exporter": "python",
   "pygments_lexer": "ipython3",
   "version": "3.11.3"
  },
  "orig_nbformat": 4
 },
 "nbformat": 4,
 "nbformat_minor": 2
}
