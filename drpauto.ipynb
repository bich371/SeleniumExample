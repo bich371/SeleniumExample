{
 "cells": [
  {
   "cell_type": "code",
   "execution_count": 25,
   "metadata": {},
   "outputs": [],
   "source": [
    "from selenium import webdriver\n",
    "from selenium.webdriver.common.keys import Keys\n",
    "from selenium.webdriver.common.by import By\n",
    "from time import sleep\n",
    "\n",
    "driver = webdriver.Chrome()\n",
    "driver.get('https://drp.wayarmy.net/')\n",
    "driver.maximize_window()\n",
    "\n",
    "sleep(5)\n"
   ]
  },
  {
   "cell_type": "code",
   "execution_count": 26,
   "metadata": {},
   "outputs": [],
   "source": [
    "login_btn = driver.find_element(By.XPATH,\"//span[contains(text(),'Đăng nhập')]\")\n",
    "login_btn.click()\n",
    "sleep(5)"
   ]
  },
  {
   "cell_type": "code",
   "execution_count": 27,
   "metadata": {},
   "outputs": [],
   "source": [
    "credential = open('account')\n",
    "line = credential.readlines()\n",
    "username = line[3]\n",
    "pwd = line[4]\n",
    "\n",
    "sleep(5)\n",
    "\n",
    "#python đọc STT từ 0"
   ]
  },
  {
   "cell_type": "code",
   "execution_count": 31,
   "metadata": {},
   "outputs": [],
   "source": [
    "email = driver.find_element(By.XPATH,\"//input[@name='email']\")\n",
    "email.send_keys(username)\n",
    "sleep(3)"
   ]
  },
  {
   "cell_type": "code",
   "execution_count": 32,
   "metadata": {},
   "outputs": [],
   "source": [
    "\n",
    "password = driver.find_element(By.XPATH, \"//input[@name='password']\")\n",
    "password.send_keys(pwd)\n",
    "sleep(5)\n",
    "\n",
    "#cần manual pass captcha rồi mới execute đoạn tiếp theo"
   ]
  },
  {
   "cell_type": "code",
   "execution_count": 33,
   "metadata": {},
   "outputs": [],
   "source": [
    "submit = driver.find_element(By.XPATH, \"//span[@class='MuiButton-label css-8xplcm-MuiButton-label']\")\n",
    "submit.click()\n"
   ]
  }
 ],
 "metadata": {
  "kernelspec": {
   "display_name": "Python 3",
   "language": "python",
   "name": "python3"
  },
  "language_info": {
   "codemirror_mode": {
    "name": "ipython",
    "version": 3
   },
   "file_extension": ".py",
   "mimetype": "text/x-python",
   "name": "python",
   "nbconvert_exporter": "python",
   "pygments_lexer": "ipython3",
   "version": "3.11.3"
  },
  "orig_nbformat": 4
 },
 "nbformat": 4,
 "nbformat_minor": 2
}
